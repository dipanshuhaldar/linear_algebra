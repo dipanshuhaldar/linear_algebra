{
 "cells": [
  {
   "cell_type": "markdown",
   "metadata": {},
   "source": [
    "# Linear Algebra Basics with Numpy "
   ]
  },
  {
   "cell_type": "code",
   "execution_count": 1,
   "metadata": {},
   "outputs": [],
   "source": [
    "import numpy as np"
   ]
  },
  {
   "cell_type": "markdown",
   "metadata": {},
   "source": [
    "# Creating Numpy Matrices"
   ]
  },
  {
   "cell_type": "code",
   "execution_count": 2,
   "metadata": {},
   "outputs": [
    {
     "name": "stdout",
     "output_type": "stream",
     "text": [
      "[[1. 2.]\n",
      " [3. 4.]\n",
      " [5. 6.]]\n",
      "\n",
      "\n",
      "[[1. 2.]\n",
      " [3. 4.]\n",
      " [5. 6.]]\n"
     ]
    }
   ],
   "source": [
    "A = np.matrix([[1.,2],[3,4],[5,6]])\n",
    "print(A)\n",
    "B = np.matrix([[1.,2],[3,4],[5,6]])\n",
    "print('\\n')\n",
    "print(A)"
   ]
  },
  {
   "cell_type": "markdown",
   "metadata": {},
   "source": [
    "# Vector is a One Dimensional Matrix "
   ]
  },
  {
   "cell_type": "code",
   "execution_count": 3,
   "metadata": {},
   "outputs": [
    {
     "name": "stdout",
     "output_type": "stream",
     "text": [
      "[[1 2]]\n",
      "\n",
      "\n",
      "[[1]\n",
      " [2]]\n"
     ]
    }
   ],
   "source": [
    "x = np.matrix('1,2')\n",
    "print(x)\n",
    "print('\\n')\n",
    "print(x.T)"
   ]
  },
  {
   "cell_type": "markdown",
   "metadata": {},
   "source": [
    "# Matrix Matrix and Vector Matrix Multiplication"
   ]
  },
  {
   "cell_type": "code",
   "execution_count": 4,
   "metadata": {},
   "outputs": [
    {
     "name": "stdout",
     "output_type": "stream",
     "text": [
      "[[4. 5.]]\n",
      "\n",
      "\n",
      "[[1. 2.]\n",
      " [3. 4.]\n",
      " [5. 6.]]\n",
      "\n",
      "\n",
      "[[2 3]\n",
      " [1 5]\n",
      " [4 7]]\n",
      "\n",
      "\n",
      "[[14.]\n",
      " [32.]\n",
      " [50.]]\n",
      "\n",
      "\n",
      "[[ 8. 11. 18.]\n",
      " [18. 23. 40.]\n",
      " [28. 35. 62.]]\n"
     ]
    }
   ],
   "source": [
    "x = np.matrix('4.,5.')\n",
    "print(x)\n",
    "print('\\n')\n",
    "A = np.matrix([[1.0,2],[3,4],[5,6]])\n",
    "B = np.matrix([[2,3],[1,5],[4,7]])\n",
    "print(A)\n",
    "print('\\n')\n",
    "print(B)\n",
    "print('\\n')\n",
    "print(A*x.T)\n",
    "print('\\n')\n",
    "print(A*B.T)"
   ]
  },
  {
   "cell_type": "code",
   "execution_count": 5,
   "metadata": {},
   "outputs": [
    {
     "name": "stdout",
     "output_type": "stream",
     "text": [
      "4.0 5.0\n"
     ]
    }
   ],
   "source": [
    "print(x[0,0],x[0,1])"
   ]
  },
  {
   "cell_type": "markdown",
   "metadata": {},
   "source": [
    "# Rank of a Matrix"
   ]
  },
  {
   "cell_type": "code",
   "execution_count": 6,
   "metadata": {},
   "outputs": [
    {
     "name": "stdout",
     "output_type": "stream",
     "text": [
      "[[1. 1. 1.]\n",
      " [1. 1. 1.]\n",
      " [1. 1. 1.]\n",
      " [1. 1. 1.]]\n",
      "1\n"
     ]
    }
   ],
   "source": [
    "A = np.ones((4,3))\n",
    "print(A)\n",
    "print(np.linalg.matrix_rank(A))"
   ]
  },
  {
   "cell_type": "markdown",
   "metadata": {},
   "source": [
    "# Vector Matrix Dot Product"
   ]
  },
  {
   "cell_type": "code",
   "execution_count": 7,
   "metadata": {},
   "outputs": [
    {
     "name": "stdout",
     "output_type": "stream",
     "text": [
      "[[1 2]\n",
      " [3 4]]\n",
      "[10 20]\n",
      "[[ 50 110]]\n"
     ]
    }
   ],
   "source": [
    "A = np.matrix([[1,2],[3,4]])\n",
    "print(A)\n",
    "b = np.array([10,20])\n",
    "print(b)\n",
    "print(np.dot(A,b))"
   ]
  },
  {
   "cell_type": "markdown",
   "metadata": {},
   "source": [
    "# Solve Equations like Ax = b with numpy.linalg"
   ]
  },
  {
   "cell_type": "code",
   "execution_count": 8,
   "metadata": {},
   "outputs": [],
   "source": [
    "from numpy.linalg import solve"
   ]
  },
  {
   "cell_type": "code",
   "execution_count": 9,
   "metadata": {
    "scrolled": true
   },
   "outputs": [
    {
     "name": "stdout",
     "output_type": "stream",
     "text": [
      "[0. 5.]\n"
     ]
    }
   ],
   "source": [
    "A = np.matrix([[1,2],[3,4]])\n",
    "b = np.array([10,20])\n",
    "x = solve(A,b)\n",
    "print(x)"
   ]
  },
  {
   "cell_type": "markdown",
   "metadata": {},
   "source": [
    "# Eigen Values and Eigen Vectors"
   ]
  },
  {
   "cell_type": "code",
   "execution_count": 10,
   "metadata": {},
   "outputs": [],
   "source": [
    "from numpy.linalg import eig"
   ]
  },
  {
   "cell_type": "code",
   "execution_count": 11,
   "metadata": {},
   "outputs": [
    {
     "name": "stdout",
     "output_type": "stream",
     "text": [
      "\n",
      "\n",
      "[-0.37228132  5.37228132]\n",
      "\n",
      "\n",
      "[[-0.82456484 -0.41597356]\n",
      " [ 0.56576746 -0.90937671]]\n"
     ]
    }
   ],
   "source": [
    "A = np.matrix([[1,2],[3,4]])\n",
    "#print(eig(A))# there are two tuples in the result the first shows the eigen values and the second for eigen vectors\n",
    "print('\\n')\n",
    "eig_val,eig_vector = eig(A)\n",
    "print(eig_val)\n",
    "print('\\n')\n",
    "print(eig_vector)"
   ]
  },
  {
   "cell_type": "markdown",
   "metadata": {},
   "source": [
    "# Matrix Decompositions"
   ]
  },
  {
   "cell_type": "markdown",
   "metadata": {},
   "source": [
    "LU Decomposition and Gaussian Elemination"
   ]
  },
  {
   "cell_type": "code",
   "execution_count": 12,
   "metadata": {},
   "outputs": [],
   "source": [
    "#A = np.matrix([ [7, 3, -1, 2], [3, 8, 1, -4], [-1, 1, 4, -1], [2, -4, -1, 6] ])\n",
    "#P, L, U = np.linalg.lu(A)\n",
    "#print(P)\n",
    "#print('\\n')\n",
    "#print(L)\n",
    "#print('\\n')\n",
    "#print(U)"
   ]
  },
  {
   "cell_type": "markdown",
   "metadata": {},
   "source": [
    "Cholesky Decomposition"
   ]
  },
  {
   "cell_type": "code",
   "execution_count": 13,
   "metadata": {},
   "outputs": [
    {
     "data": {
      "text/plain": [
       "matrix([[ 1.41421356,  0.        ,  0.        ],\n",
       "        [-0.70710678,  1.22474487,  0.        ],\n",
       "        [ 0.        , -0.81649658,  1.15470054]])"
      ]
     },
     "execution_count": 13,
     "metadata": {},
     "output_type": "execute_result"
    }
   ],
   "source": [
    "A = np.matrix([[2,-1,0],[-1,2,-1],[0,-1,2]])\n",
    "np.linalg.cholesky(A)"
   ]
  },
  {
   "cell_type": "markdown",
   "metadata": {},
   "source": [
    "QR Decomposition"
   ]
  },
  {
   "cell_type": "code",
   "execution_count": 14,
   "metadata": {},
   "outputs": [
    {
     "data": {
      "text/plain": [
       "(matrix([[-0.89442719, -0.35856858,  0.26726124],\n",
       "         [ 0.4472136 , -0.71713717,  0.53452248],\n",
       "         [-0.        ,  0.5976143 ,  0.80178373]]),\n",
       " matrix([[-2.23606798,  1.78885438, -0.4472136 ],\n",
       "         [ 0.        , -1.67332005,  1.91236577],\n",
       "         [ 0.        ,  0.        ,  1.06904497]]))"
      ]
     },
     "execution_count": 14,
     "metadata": {},
     "output_type": "execute_result"
    }
   ],
   "source": [
    "np.linalg.qr(A)"
   ]
  },
  {
   "cell_type": "markdown",
   "metadata": {},
   "source": [
    "Singular Value Decomposition"
   ]
  },
  {
   "cell_type": "code",
   "execution_count": 15,
   "metadata": {},
   "outputs": [
    {
     "data": {
      "text/plain": [
       "(matrix([[-5.00000000e-01, -7.07106781e-01,  5.00000000e-01],\n",
       "         [ 7.07106781e-01, -1.66533454e-16,  7.07106781e-01],\n",
       "         [-5.00000000e-01,  7.07106781e-01,  5.00000000e-01]]),\n",
       " array([3.41421356, 2.        , 0.58578644]),\n",
       " matrix([[-5.00000000e-01,  7.07106781e-01, -5.00000000e-01],\n",
       "         [-7.07106781e-01,  1.11022302e-16,  7.07106781e-01],\n",
       "         [ 5.00000000e-01,  7.07106781e-01,  5.00000000e-01]]))"
      ]
     },
     "execution_count": 15,
     "metadata": {},
     "output_type": "execute_result"
    }
   ],
   "source": [
    "np.linalg.svd(A)"
   ]
  },
  {
   "cell_type": "code",
   "execution_count": 16,
   "metadata": {},
   "outputs": [],
   "source": [
    "#"
   ]
  },
  {
   "cell_type": "code",
   "execution_count": 17,
   "metadata": {},
   "outputs": [],
   "source": [
    "#"
   ]
  },
  {
   "cell_type": "markdown",
   "metadata": {},
   "source": [
    "# Reshaping an Array"
   ]
  },
  {
   "cell_type": "code",
   "execution_count": 18,
   "metadata": {},
   "outputs": [],
   "source": [
    "sample_matrix = np.matrix([[1,2,3],[4,5,6],[7,8,9],[10,11,12]])"
   ]
  },
  {
   "cell_type": "markdown",
   "metadata": {},
   "source": [
    "# Reshaping 4x3 matrix to 2x6 matrix"
   ]
  },
  {
   "cell_type": "code",
   "execution_count": 19,
   "metadata": {},
   "outputs": [
    {
     "name": "stdout",
     "output_type": "stream",
     "text": [
      "[[ 1  2  3]\n",
      " [ 4  5  6]\n",
      " [ 7  8  9]\n",
      " [10 11 12]]\n",
      "\n",
      "\n",
      "[[ 1  2  3  4  5  6]\n",
      " [ 7  8  9 10 11 12]]\n"
     ]
    }
   ],
   "source": [
    "print(sample_matrix)\n",
    "print('\\n')\n",
    "print(sample_matrix.reshape(2,6))"
   ]
  },
  {
   "cell_type": "markdown",
   "metadata": {},
   "source": [
    "# Matrix Inverse"
   ]
  },
  {
   "cell_type": "code",
   "execution_count": 20,
   "metadata": {},
   "outputs": [
    {
     "name": "stdout",
     "output_type": "stream",
     "text": [
      "[[-1.66666667  1.33333333]\n",
      " [ 0.66666667 -0.33333333]]\n"
     ]
    }
   ],
   "source": [
    "sample_matrix = np.matrix([[1,4],[2,5]])\n",
    "print(np.linalg.inv(sample_matrix))"
   ]
  },
  {
   "cell_type": "markdown",
   "metadata": {},
   "source": [
    "# Identity Matrix"
   ]
  },
  {
   "cell_type": "code",
   "execution_count": 21,
   "metadata": {},
   "outputs": [
    {
     "name": "stdout",
     "output_type": "stream",
     "text": [
      "[[1 0 0]\n",
      " [0 1 0]\n",
      " [0 0 1]]\n",
      "\n",
      "\n",
      "[[1. 0. 0.]\n",
      " [0. 1. 0.]\n",
      " [0. 0. 1.]]\n",
      "\n",
      "\n",
      "[[1. 0. 0.]\n",
      " [0. 1. 0.]\n",
      " [0. 0. 1.]]\n"
     ]
    }
   ],
   "source": [
    "identity_matrix = np.matrix([[1,0,0],[0,1,0],[0,0,1]])\n",
    "identity_matrix_inv = np.linalg.inv(identity_matrix)\n",
    "print(identity_matrix)\n",
    "print('\\n')\n",
    "print(identity_matrix_inv)\n",
    "print('\\n')\n",
    "print(identity_matrix*identity_matrix_inv)"
   ]
  },
  {
   "cell_type": "code",
   "execution_count": null,
   "metadata": {},
   "outputs": [],
   "source": []
  },
  {
   "cell_type": "markdown",
   "metadata": {},
   "source": [
    "# Diagonal Elements and Trace of a Matrix"
   ]
  },
  {
   "cell_type": "code",
   "execution_count": 22,
   "metadata": {},
   "outputs": [
    {
     "name": "stdout",
     "output_type": "stream",
     "text": [
      "[[1 5 9]]\n",
      "\n",
      "\n",
      "15\n"
     ]
    }
   ],
   "source": [
    "sample_matrix = np.matrix([[1,2,3],[4,5,6],[7,8,9]])\n",
    "print(sample_matrix.diagonal())\n",
    "print('\\n')\n",
    "print(sample_matrix.diagonal().sum())"
   ]
  },
  {
   "cell_type": "markdown",
   "metadata": {},
   "source": [
    "# Flatten a Matrix"
   ]
  },
  {
   "cell_type": "code",
   "execution_count": 23,
   "metadata": {},
   "outputs": [
    {
     "name": "stdout",
     "output_type": "stream",
     "text": [
      "[[1 2 3 4 5 6 7 8 9]]\n"
     ]
    }
   ],
   "source": [
    "print(sample_matrix.flatten())"
   ]
  },
  {
   "cell_type": "markdown",
   "metadata": {},
   "source": [
    "# Determinant of a Matrix"
   ]
  },
  {
   "cell_type": "code",
   "execution_count": 24,
   "metadata": {},
   "outputs": [
    {
     "name": "stdout",
     "output_type": "stream",
     "text": [
      "0.0\n"
     ]
    }
   ],
   "source": [
    "print(np.linalg.det(sample_matrix))"
   ]
  },
  {
   "cell_type": "markdown",
   "metadata": {},
   "source": [
    "**Lets upload and see**"
   ]
  },
  {
   "cell_type": "code",
   "execution_count": null,
   "metadata": {},
   "outputs": [],
   "source": []
  }
 ],
 "metadata": {
  "kernelspec": {
   "display_name": "Python 3",
   "language": "python",
   "name": "python3"
  },
  "language_info": {
   "codemirror_mode": {
    "name": "ipython",
    "version": 3
   },
   "file_extension": ".py",
   "mimetype": "text/x-python",
   "name": "python",
   "nbconvert_exporter": "python",
   "pygments_lexer": "ipython3",
   "version": "3.6.5"
  }
 },
 "nbformat": 4,
 "nbformat_minor": 2
}
